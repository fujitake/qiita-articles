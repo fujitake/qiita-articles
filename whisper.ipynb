{
  "nbformat": 4,
  "nbformat_minor": 0,
  "metadata": {
    "colab": {
      "provenance": [],
      "gpuType": "T4",
      "mount_file_id": "https://github.com/fujitake/qiita-articles/blob/main/whisper.ipynb",
      "authorship_tag": "ABX9TyOExI1tI9Z4HOwsGU6MxOaz",
      "include_colab_link": true
    },
    "kernelspec": {
      "name": "python3",
      "display_name": "Python 3"
    },
    "language_info": {
      "name": "python"
    },
    "accelerator": "GPU"
  },
  "cells": [
    {
      "cell_type": "markdown",
      "metadata": {
        "id": "view-in-github",
        "colab_type": "text"
      },
      "source": [
        "<a href=\"https://colab.research.google.com/github/fujitake/qiita-articles/blob/main/whisper.ipynb\" target=\"_parent\"><img src=\"https://colab.research.google.com/assets/colab-badge.svg\" alt=\"Open In Colab\"/></a>"
      ]
    },
    {
      "cell_type": "markdown",
      "source": [
        "# Google ColabにてWhisperを実行する手順\n",
        "\n",
        "ランタイムがT4となっている前提ですが`!pip3 install -U openai-whisper`から作業開始して頂いても構いません。上の3つのコマンドは状況を確認するためのコマンドとなります。"
      ],
      "metadata": {
        "id": "LQmLCiy0K3ve"
      }
    },
    {
      "cell_type": "code",
      "source": [
        "# 参考までにOSを確認\n",
        "!cat /etc/os-release"
      ],
      "metadata": {
        "id": "XMbPje2Klek-"
      },
      "execution_count": null,
      "outputs": []
    },
    {
      "cell_type": "code",
      "source": [
        "# NVIDIA GPUの情報を確認\n",
        "!nvidia-smi"
      ],
      "metadata": {
        "id": "YNLUGjjS8ZyD"
      },
      "execution_count": null,
      "outputs": []
    },
    {
      "cell_type": "code",
      "execution_count": null,
      "metadata": {
        "id": "Lezc_9ir7uGg"
      },
      "outputs": [],
      "source": [
        "# PyTorchがGPUに対応していることを確認 (TrueとなればOK、Falseの場合何かおかしい)\n",
        "import torch\n",
        "print(torch.cuda.is_available())"
      ]
    },
    {
      "cell_type": "code",
      "source": [
        "# Whisperをインストール\n",
        "!pip3 install -U openai-whisper"
      ],
      "metadata": {
        "id": "ZZ10S_EdKV7N"
      },
      "execution_count": null,
      "outputs": []
    },
    {
      "cell_type": "code",
      "source": [
        "# ffmpegをインストール\n",
        "!sudo apt update && sudo apt install ffmpeg"
      ],
      "metadata": {
        "id": "KIFYMOeol_RB"
      },
      "execution_count": null,
      "outputs": []
    },
    {
      "cell_type": "code",
      "source": [
        "# Google Driveのマイドライブがマウントできていることを確認\n",
        "!ls /content/drive/MyDrive/"
      ],
      "metadata": {
        "id": "KxAB0YO1KsL0",
        "outputId": "ccdf556a-b3b7-4851-8155-481a0435c22a",
        "colab": {
          "base_uri": "https://localhost:8080/"
        }
      },
      "execution_count": 7,
      "outputs": [
        {
          "output_type": "stream",
          "name": "stdout",
          "text": [
            "'Colab Notebooks'   first_colab.ipynb   whisp1\n"
          ]
        }
      ]
    },
    {
      "cell_type": "code",
      "source": [
        "# whisper実行、ファイル名とパスは適宜修正して下さい。実行時の現在ディレクトリに結果が出力されます。\n",
        "!whisper /content/drive/MyDrive/whisp1/small/audio1454496418.m4a --language Japanese --device cuda --model small"
      ],
      "metadata": {
        "id": "R_5HtNoYLhQ9",
        "outputId": "e9334240-4a9a-4a73-97be-03283a562827",
        "colab": {
          "base_uri": "https://localhost:8080/"
        }
      },
      "execution_count": 2,
      "outputs": [
        {
          "output_type": "stream",
          "name": "stdout",
          "text": [
            "/bin/bash: line 1: whisper: command not found\n"
          ]
        }
      ]
    }
  ]
}