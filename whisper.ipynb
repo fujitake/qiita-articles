{
  "nbformat": 4,
  "nbformat_minor": 0,
  "metadata": {
    "colab": {
      "provenance": [],
      "gpuType": "T4",
      "authorship_tag": "ABX9TyPU5rl2AhAXyQzeA0A38VEF",
      "include_colab_link": true
    },
    "kernelspec": {
      "name": "python3",
      "display_name": "Python 3"
    },
    "language_info": {
      "name": "python"
    },
    "accelerator": "GPU"
  },
  "cells": [
    {
      "cell_type": "markdown",
      "metadata": {
        "id": "view-in-github",
        "colab_type": "text"
      },
      "source": [
        "<a href=\"https://colab.research.google.com/github/fujitake/qiita-articles/blob/main/whisper.ipynb\" target=\"_parent\"><img src=\"https://colab.research.google.com/assets/colab-badge.svg\" alt=\"Open In Colab\"/></a>"
      ]
    },
    {
      "cell_type": "code",
      "source": [
        "# OSを確認\n",
        "!cat /etc/os-release"
      ],
      "metadata": {
        "id": "XMbPje2Klek-"
      },
      "execution_count": null,
      "outputs": []
    },
    {
      "cell_type": "code",
      "source": [
        "# NVIDIA GPUの情報を確認\n",
        "!nvidia-smi"
      ],
      "metadata": {
        "id": "YNLUGjjS8ZyD"
      },
      "execution_count": null,
      "outputs": []
    },
    {
      "cell_type": "code",
      "execution_count": null,
      "metadata": {
        "id": "Lezc_9ir7uGg"
      },
      "outputs": [],
      "source": [
        "# PyTorchがGPUに対応していることを確認 (TrueとなればOK、Falseの場合何かおかしい)\n",
        "import torch\n",
        "print(torch.cuda.is_available())"
      ]
    },
    {
      "cell_type": "code",
      "source": [
        "# Whisperをインストール\n",
        "!pip3 install -U openai-whisper"
      ],
      "metadata": {
        "id": "ZZ10S_EdKV7N"
      },
      "execution_count": null,
      "outputs": []
    },
    {
      "cell_type": "code",
      "source": [
        "# ffmpegをインストール\n",
        "!sudo apt update && sudo apt install ffmpeg"
      ],
      "metadata": {
        "id": "KIFYMOeol_RB"
      },
      "execution_count": null,
      "outputs": []
    }
  ]
}